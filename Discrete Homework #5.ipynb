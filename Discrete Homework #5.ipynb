{
 "cells": [
  {
   "cell_type": "markdown",
   "metadata": {},
   "source": [
    "# 1. The graph of Europe G* = ⟨𝑉 , 𝐸⟩ is defined as follows: each vertex 𝑣 ∈ 𝑉 is a Europe country; two vertices are adjacent ({𝑢, 𝑣 } ∈ 𝐸) if the corresponding countries share a land border. Let G be a maximum connected component of G*."
   ]
  },
  {
   "cell_type": "code",
   "execution_count": 11,
   "metadata": {},
   "outputs": [],
   "source": [
    "import networkx as nx\n",
    "import matplotlib \n",
    "from networkx.algorithms import approximation\n",
    "from networkx.algorithms import components\n",
    "from networkx.algorithms import connectivity\n",
    "\n",
    "G = nx.Graph()\n",
    "a = [(\"Albania\", \"Greece\"), (\"Albania\", \"Montenegro\"), \n",
    "     (\"Albania\", \"Northern Macedonia\"), (\"Albania\", \"Serbia\"), \n",
    "     (\"Andorra\", \"France\"), (\"Andorra\", \"Spain\"), \n",
    "     (\"Austria\", \"Czech Republic\"), (\"Austria\", \"Germany\"), \n",
    "     (\"Austria\", \"Hungary\"), (\"Austria\", \"Italy\"), \n",
    "     (\"Austria\", \"Liechtenstein\"), (\"Austria\", \"Slovakia\"), \n",
    "     (\"Austria\", \"Slovenia\"), (\"Austria\", \"Switzerland\"), \n",
    "     (\"Belarus\", \"Latvia\"), (\"Belarus\", \"Lithuania\"), \n",
    "     (\"Belarus\", \"Poland\"), (\"Belarus\", \"Russia\"), \n",
    "     (\"Belarus\", \"Ukraine\"), (\"Belgium\", \"Germany\"), \n",
    "     (\"Belgium\", \"France\"),  (\"Belgium\", \"Luxemburg\"), \n",
    "     (\"Belgium\", \"Netherlands\"), (\"Bosnia and Herzegovina\", \"Croatia\"), \n",
    "     (\"Bosnia and Herzegovina\", \"Montenegro\"), (\"Bosnia and Herzegovina\", \"Serbia\"),  \n",
    "     (\"Bulgaria\", \"Greece\"),  (\"Bulgaria\", \"Northern Macedonia\"), \n",
    "     (\"Bulgaria\", \"Serbia\"),  (\"Bulgaria\", \"Romania\"), \n",
    "     (\"Bulgaria\", \"Turkey\"),  (\"Croatia\", \"Hungary\"),  \n",
    "     (\"Croatia\", \"Montenegro\"), (\"Croatia\", \"Serbia\"), \n",
    "     (\"Croatia\", \"Slovenia\"), (\"Czech Republic\", \"Germany\"), \n",
    "     (\"Czech Republic\", \"Poland\"), (\"Czech Republic\", \"Slovakia\"), \n",
    "     (\"Denmark\", \"Germany\"), (\"Denmark\", \"Sweden\"), \n",
    "     (\"Estonia\", \"Latvia\"), (\"Estonia\", \"Russia\"), \n",
    "     (\"Finland\", \"Norway\"), (\"Finland\", \"Sweden\"), \n",
    "     (\"Finland\", \"Russia\"), (\"France\", \"Germany\"), \n",
    "     (\"France\", \"Italy\"), (\"France\", \"Luxemburg\"), \n",
    "     (\"France\", \"Monaco\"), (\"France\", \"Spain\"), \n",
    "     (\"France\", \"Switzerland\"), (\"Germany\", \"Luxemburg\"), \n",
    "     (\"Germany\", \"Netherlands\"), (\"Germany\", \"Poland\"), \n",
    "     (\"Germany\", \"Switzerland\"), (\"Greece\", \"Northern Macedonia\"), \n",
    "     (\"Greece\", \"Turkey\"), (\"Hungary\", \"Serbia\"), \n",
    "     (\"Hungary\", \"Slovakia\"), (\"Hungary\", \"Slovenia\"), \n",
    "     (\"Hungary\", \"Ukraine\"), (\"Ireland\", \"United Kingdom\"), \n",
    "     (\"Italy\", \"San Marino\"), (\"Italy\", \"Slovenia\"), \n",
    "     (\"Italy\", \"Switzerland\"), (\"Italy\", \"Vatican City\"), \n",
    "     (\"Latvia\", \"Lithuania\"), (\"Latvia\", \"Russia\"), \n",
    "     (\"Liechtenstein\", \"Switzerland\"), (\"Lithuania\", \"Poland\"), \n",
    "     (\"Lithuania\", \"Russia\"), (\"Northern Macedonia\", \"Serbia\"), \n",
    "     (\"Moldova\", \"Romania\"), (\"Moldova\", \"Ukraine\"), \n",
    "     (\"Montenegro\", \"Serbia\"), (\"Norway\", \"Sweden\"), \n",
    "     (\"Norway\", \"Russia\"), (\"Poland\", \"Slovakia\"), \n",
    "     (\"Poland\", \"Russia\"), (\"Poland\", \"Ukraine\"), \n",
    "     (\"Portugal\", \"Spain\"), (\"Romania\", \"Serbia\"), \n",
    "     (\"Romania\", \"Ukraine\"), (\"Russia\", \"Ukraine\"), \n",
    "     (\"Slovakia\", \"Ukraine\"), (\"United Kingdom\", \"France\"), \n",
    "     (\"Romania\", \"Hungary\")]\n",
    "G.add_edges_from(a)"
   ]
  },
  {
   "cell_type": "markdown",
   "metadata": {},
   "source": [
    "### Adjacency list "
   ]
  },
  {
   "cell_type": "code",
   "execution_count": 12,
   "metadata": {},
   "outputs": [],
   "source": [
    "b = [0]*87\n",
    "used = []\n",
    "for i in range(87):\n",
    "    b[i] = []\n",
    "    if a[i][0] not in used:\n",
    "        used.append(a[i][0])\n",
    "    if a[i][1] not in used:\n",
    "        used.append(a[i][1])\n",
    "for i in range(87):\n",
    "    ind = used.index(a[i][0])\n",
    "    b[i].append(ind)\n",
    "    ind = used.index(a[i][1])\n",
    "    b[i].append(ind)\n",
    "\n",
    "adj_list = [0]*43\n",
    "for i in range(43):\n",
    "    adj_list[i] = []\n",
    "for i in range(87):\n",
    "    adj_list[b[i][0]].append(b[i][1])\n",
    "    adj_list[b[i][1]].append(b[i][0])"
   ]
  },
  {
   "cell_type": "markdown",
   "metadata": {},
   "source": [
    "### Adjacency matrix"
   ]
  },
  {
   "cell_type": "code",
   "execution_count": 13,
   "metadata": {},
   "outputs": [],
   "source": [
    "adj_matrix = [0]*43\n",
    "for i in range(43):\n",
    "    adj_matrix[i] = [0]*43\n",
    "    for j in range(43):\n",
    "        if j in adj_list[i]:\n",
    "            adj_matrix[i][j] = 1\n",
    "        else:\n",
    "            adj_matrix[i][j] = 0"
   ]
  },
  {
   "cell_type": "markdown",
   "metadata": {},
   "source": [
    "### (b) Find |𝑉|, |𝐸|, 𝛿(G), Δ(G), rad(G), diam(G), girth(G), center(G), 𝜅(G), 𝜆(G)."
   ]
  },
  {
   "cell_type": "code",
   "execution_count": 14,
   "metadata": {},
   "outputs": [
    {
     "name": "stdout",
     "output_type": "stream",
     "text": [
      "The number of vertices: |V| = 43\n",
      "The number of edges: |E| = 87\n",
      "The minimum degree: 𝛿(G) = 1\n",
      "The maximum degree: Δ(G) = 9\n",
      "The radius: rad(G) = 4\n",
      "The diameter: diam(G) = 8\n",
      "The girth: girth(G) = 3\n",
      "The center: center(G) = ['Austria', 'Slovenia', 'Poland']\n",
      "The vertex-connectivity: 𝜅(G) = 1\n",
      "The edge-connectivity: λ(G) = 1\n"
     ]
    }
   ],
   "source": [
    "print(\"The number of vertices: |V| =\", G.number_of_nodes())\n",
    "print(\"The number of edges: |E| =\", G.number_of_edges())\n",
    "print(\"The minimum degree: 𝛿(G) =\", min(d for n, d in G.degree))\n",
    "print(\"The maximum degree: Δ(G) =\", max(d for n, d in G.degree))\n",
    "print(\"The radius: rad(G) =\", nx.radius(G))\n",
    "print(\"The diameter: diam(G) =\", nx.diameter(G))\n",
    "print(\"The girth: girth(G) =\", len(min(nx.minimum_cycle_basis(G))))\n",
    "print(\"The center: center(G) =\", nx.center(G))\n",
    "print(\"The vertex-connectivity: 𝜅(G) =\", nx.node_connectivity(G))\n",
    "print(\"The edge-connectivity: λ(G) =\", nx.edge_connectivity(G))"
   ]
  },
  {
   "cell_type": "markdown",
   "metadata": {},
   "source": [
    "### (c) Find the minimum vertex coloring 𝑍 : 𝑉 → N of G."
   ]
  },
  {
   "cell_type": "code",
   "execution_count": 15,
   "metadata": {},
   "outputs": [
    {
     "name": "stdout",
     "output_type": "stream",
     "text": [
      "Minimum number of colors for vertex coloring is 5\n",
      "\n",
      "Possible minimum vertex coloring: {'France': 0, 'Germany': 1, 'Serbia': 0, 'Austria': 0, 'Russia': 0, 'Hungary': 1, 'Poland': 2, 'Ukraine': 3, 'Italy': 1, 'Slovakia': 4, 'Switzerland': 2, 'Belarus': 1, 'Croatia': 2, 'Bulgaria': 1, 'Romania': 2, 'Albania': 1, 'Greece': 0, 'Montenegro': 3, 'Northern Macedonia': 2, 'Czech Republic': 3, 'Slovenia': 3, 'Latvia': 2, 'Lithuania': 3, 'Belgium': 2, 'Spain': 1, 'Luxemburg': 3, 'Bosnia and Herzegovina': 1, 'Sweden': 0, 'Finland': 1, 'Norway': 2, 'Andorra': 2, 'Liechtenstein': 1, 'Netherlands': 0, 'Turkey': 2, 'Denmark': 2, 'Estonia': 1, 'United Kingdom': 1, 'Moldova': 0, 'Monaco': 1, 'Ireland': 0, 'San Marino': 0, 'Vatican City': 0, 'Portugal': 0}\n"
     ]
    }
   ],
   "source": [
    "print(\"Minimum number of colors for vertex coloring is\", max(nx.greedy_color(G).values())+1)\n",
    "print()\n",
    "print(\"Possible minimum vertex coloring:\", nx.greedy_color(G))"
   ]
  },
  {
   "cell_type": "markdown",
   "metadata": {},
   "source": [
    "### (d) Find the minimum edge coloring 𝑋 : 𝐸 → N of G."
   ]
  },
  {
   "cell_type": "code",
   "execution_count": 16,
   "metadata": {},
   "outputs": [
    {
     "name": "stdout",
     "output_type": "stream",
     "text": [
      "Minimum number of colors for edge coloring is 9\n",
      "\n",
      "{('France', 'Germany'): 0, ('Austria', 'Germany'): 1, ('Germany', 'Poland'): 2, ('Austria', 'Hungary'): 0, ('Hungary', 'Serbia'): 1, ('Poland', 'Russia'): 0, ('Russia', 'Ukraine'): 1, ('France', 'Italy'): 1, ('Poland', 'Ukraine'): 3, ('Germany', 'Switzerland'): 3, ('Austria', 'Italy'): 2, ('France', 'Switzerland'): 2, ('Hungary', 'Ukraine'): 2, ('Czech Republic', 'Germany'): 4, ('Belgium', 'Germany'): 5, ('Austria', 'Switzerland'): 4, ('Romania', 'Serbia'): 0, ('Austria', 'Slovakia'): 3, ('Belgium', 'France'): 3, ('Bulgaria', 'Serbia'): 2, ('Belarus', 'Russia'): 2, ('Croatia', 'Serbia'): 3, ('Latvia', 'Russia'): 3, ('Northern Macedonia', 'Serbia'): 4, ('Slovakia', 'Ukraine'): 0, ('Belarus', 'Ukraine'): 4, ('France', 'Luxemburg'): 4, ('France', 'Spain'): 5, ('Montenegro', 'Serbia'): 5, ('Hungary', 'Romania'): 3, ('Austria', 'Slovenia'): 5, ('Albania', 'Serbia'): 6, ('Romania', 'Ukraine'): 5, ('Germany', 'Luxemburg'): 6, ('Austria', 'Czech Republic'): 6, ('Hungary', 'Slovakia'): 4, ('Croatia', 'Hungary'): 5, ('Lithuania', 'Russia'): 4, ('Poland', 'Slovakia'): 1, ('Belarus', 'Poland'): 5, ('Denmark', 'Germany'): 7, ('Germany', 'Netherlands'): 8, ('Italy', 'Switzerland'): 0, ('Andorra', 'France'): 6, ('Norway', 'Russia'): 5, ('Hungary', 'Slovenia'): 6, ('Bosnia and Herzegovina', 'Serbia'): 7, ('Lithuania', 'Poland'): 6, ('Finland', 'Russia'): 6, ('Czech Republic', 'Poland'): 7, ('France', 'United Kingdom'): 7, ('France', 'Monaco'): 8, ('Italy', 'Slovenia'): 3, ('Bulgaria', 'Romania'): 1, ('Austria', 'Liechtenstein'): 7, ('Estonia', 'Russia'): 7, ('Czech Republic', 'Slovakia'): 2, ('Croatia', 'Slovenia'): 0, ('Moldova', 'Ukraine'): 6, ('Bulgaria', 'Greece'): 0, ('Belarus', 'Lithuania'): 0, ('Belarus', 'Latvia'): 1, ('Croatia', 'Montenegro'): 1, ('Bulgaria', 'Northern Macedonia'): 3, ('Latvia', 'Lithuania'): 2, ('Greece', 'Northern Macedonia'): 1, ('Albania', 'Montenegro'): 0, ('Bosnia and Herzegovina', 'Croatia'): 2, ('Albania', 'Northern Macedonia'): 2, ('Albania', 'Greece'): 3, ('Italy', 'San Marino'): 4, ('Italy', 'Vatican City'): 5, ('Liechtenstein', 'Switzerland'): 1, ('Bulgaria', 'Turkey'): 4, ('Moldova', 'Romania'): 2, ('Bosnia and Herzegovina', 'Montenegro'): 3, ('Belgium', 'Luxemburg'): 0, ('Finland', 'Sweden'): 0, ('Norway', 'Sweden'): 1, ('Belgium', 'Netherlands'): 1, ('Finland', 'Norway'): 2, ('Greece', 'Turkey'): 2, ('Estonia', 'Latvia'): 0, ('Denmark', 'Sweden'): 2, ('Andorra', 'Spain'): 0, ('Portugal', 'Spain'): 1, ('Ireland', 'United Kingdom'): 0}\n"
     ]
    }
   ],
   "source": [
    "print(\"Minimum number of colors for edge coloring is\", max(nx.greedy_color(nx.line_graph(G)).values())+1)\n",
    "print()\n",
    "print(nx.greedy_color(nx.line_graph(G)))"
   ]
  },
  {
   "cell_type": "markdown",
   "metadata": {},
   "source": [
    "### (e) Find the maximum clique 𝑄 ⊆ 𝑉 of G"
   ]
  },
  {
   "cell_type": "code",
   "execution_count": 17,
   "metadata": {},
   "outputs": [
    {
     "name": "stdout",
     "output_type": "stream",
     "text": [
      "The maximum clique is {'Russia', 'Poland', 'Belarus', 'Lithuania'}\n"
     ]
    }
   ],
   "source": [
    "print(\"The maximum clique is\", approximation.clique.max_clique(G))"
   ]
  },
  {
   "cell_type": "markdown",
   "metadata": {},
   "source": [
    "###  (f) Find the maximum stable set 𝑆 ⊆ 𝑉 of G"
   ]
  },
  {
   "cell_type": "code",
   "execution_count": 18,
   "metadata": {},
   "outputs": [
    {
     "name": "stdout",
     "output_type": "stream",
     "text": [
      "The maximum stable set is {'Monaco', 'Portugal', 'San Marino', 'Belgium', 'Austria', 'Andorra', 'Estonia', 'Albania', 'Belarus', 'Bulgaria', 'Moldova', 'Denmark', 'Vatican City', 'Finland', 'Ireland', 'Bosnia and Herzegovina'}\n"
     ]
    }
   ],
   "source": [
    "print(\"The maximum stable set is\", approximation.independent_set.maximum_independent_set(G))"
   ]
  },
  {
   "cell_type": "markdown",
   "metadata": {},
   "source": [
    "### (g) Find the maximum matching 𝑀 ⊆ 𝐸 of G"
   ]
  },
  {
   "cell_type": "code",
   "execution_count": 19,
   "metadata": {},
   "outputs": [],
   "source": [
    "#done with an Edmonds algorithm"
   ]
  },
  {
   "cell_type": "markdown",
   "metadata": {},
   "source": [
    "### (h) Find the minimum vertex cover 𝑅 ⊆ 𝑉 of G."
   ]
  },
  {
   "cell_type": "code",
   "execution_count": 20,
   "metadata": {},
   "outputs": [
    {
     "name": "stdout",
     "output_type": "stream",
     "text": [
      "The size of minimum vertex cover is 24\n",
      "The minimum vertex cover is Greece, Montenegro, Northern Macedonia, Serbia, France, Spain, Austria, Germany, Italy, Liechtenstein, Slovakia, Slovenia, Belarus, Latvia, Poland, Russia, Ukraine, Belgium, Croatia, Romania, Turkey, Sweden, Finland, Ireland"
     ]
    }
   ],
   "source": [
    "#the first part of the solution is in minimum_vertex_cover.mzn\n",
    "\n",
    "ans = [0, 1, 1, 1, 1, 0, 1, 1, 1, 0, 1, 0, 1, 1, 1, 1, 0, 1, 1, 0, 1, 1, 1, 1, 0, 0, 0, 1, 0, 1, 1, 0, 1, 0, 1, 0, 0, 1, 0, 0, 0, 0, 0]\n",
    "print(\"The size of minimum vertex cover is\", ans.count(1))\n",
    "print(\"The minimum vertex cover is\", end = \" \")\n",
    "for i in range(len(ans)):\n",
    "    if ans[i] == 1 and i != 1:\n",
    "        print(',', used[i], end = \"\")\n",
    "    elif ans[i] == 1:\n",
    "        print(used[i], end = \"\")"
   ]
  },
  {
   "cell_type": "markdown",
   "metadata": {},
   "source": [
    "### (i) Find the minimum edge cover 𝐹 ⊆ 𝐸 of G."
   ]
  },
  {
   "cell_type": "code",
   "execution_count": 21,
   "metadata": {},
   "outputs": [
    {
     "name": "stdout",
     "output_type": "stream",
     "text": [
      "The minimum edge cover is {('France', 'Andorra'), ('Denmark', 'Sweden'), ('Netherlands', 'Belgium'), ('Moldova', 'Ukraine'), ('Poland', 'Belarus'), ('Hungary', 'Romania'), ('Russia', 'Lithuania'), ('Vatican City', 'Italy'), ('Norway', 'Finland'), ('Croatia', 'Bosnia and Herzegovina'), ('Portugal', 'Spain'), ('Estonia', 'Latvia'), ('Italy', 'San Marino'), ('Monaco', 'France'), ('Northern Macedonia', 'Greece'), ('San Marino', 'Italy'), ('Montenegro', 'Albania'), ('Albania', 'Montenegro'), ('Austria', 'Slovenia'), ('Liechtenstein', 'Switzerland'), ('United Kingdom', 'Ireland'), ('Turkey', 'Bulgaria'), ('Germany', 'Luxemburg'), ('Serbia', 'Albania'), ('Andorra', 'France'), ('Slovakia', 'Czech Republic')}\n"
     ]
    }
   ],
   "source": [
    "print(\"The minimum edge cover is\", nx.min_edge_cover(G))"
   ]
  },
  {
   "cell_type": "markdown",
   "metadata": {},
   "source": [
    "### (j) Find the shortest closed path (circuit) 𝑊 that visits every vertex of G."
   ]
  },
  {
   "cell_type": "code",
   "execution_count": 22,
   "metadata": {},
   "outputs": [
    {
     "name": "stdout",
     "output_type": "stream",
     "text": [
      "The shortest closed path (circuit) 𝑊 that visits every vertex of G is:\n",
      "Portugal -> Spain -> France -> United Kingdom -> Ireland -> United Kingdom -> France -> Luxembourg -> Belgium -> Netherlands -> Germany -> Denmark -> Sweden -> Norway -> Finland -> Russia -> Estonia -> Latvia -> Lithuania -> Poland -> Belarus -> Ukraine -> Moldova -> Romania -> Serbia -> Bulgaria -> Turkey -> Greece -> Northern Macedonia -> Albania -> Montenegro -> Bosnia and Herzegovina -> Croatia -> Slovenia -> Hungary -> Slovakia -> Czech Republic -> Austria -> Liechtenstein -> Switzerland -> Italy -> San Marino -> Vatican City -> Italy -> France -> Monaco -> France -> Andorra -> Spain -> Portugal\n"
     ]
    }
   ],
   "source": [
    "# def hamilton(G):\n",
    "#     F = [(G, [list(G.nodes())[0]])]\n",
    "#     n = G.number_of_nodes()\n",
    "#     while True:\n",
    "#         graph, path = F.pop()\n",
    "#         confs = []\n",
    "#         neighbors = (node for node in graph.neighbors(path[-1]) \n",
    "#                      if node != path[-1]) #exclude self loops\n",
    "#         for neighbor in neighbors:\n",
    "#             conf_p = path[:]\n",
    "#             conf_p.append(neighbor)\n",
    "#             conf_g = nx.Graph(graph)\n",
    "#             conf_g.remove_node(path[-1])\n",
    "#             confs.append((conf_g,conf_p))\n",
    "#         for g,p in confs:\n",
    "#             if len(p) > 30:\n",
    "#                 return p\n",
    "#             else:\n",
    "#                 F.append((g,p))\n",
    "#     return None\n",
    "# \n",
    "# print(hamilton(G))\n",
    "print(\"The shortest closed path (circuit) 𝑊 that visits every vertex of G is:\")\n",
    "print(\"Portugal -> Spain -> France -> United Kingdom -> Ireland -> United Kingdom -> France -> Luxembourg -> Belgium -> Netherlands -> Germany -> Denmark -> Sweden -> Norway -> Finland -> Russia -> Estonia -> Latvia -> Lithuania -> Poland -> Belarus -> Ukraine -> Moldova -> Romania -> Serbia -> Bulgaria -> Turkey -> Greece -> Northern Macedonia -> Albania -> Montenegro -> Bosnia and Herzegovina -> Croatia -> Slovenia -> Hungary -> Slovakia -> Czech Republic -> Austria -> Liechtenstein -> Switzerland -> Italy -> San Marino -> Vatican City -> Italy -> France -> Monaco -> France -> Andorra -> Spain -> Portugal\")"
   ]
  },
  {
   "cell_type": "markdown",
   "metadata": {},
   "source": [
    "### (k) Find the shortest closed path (circuit) 𝑈 that visits every edge of G."
   ]
  },
  {
   "cell_type": "code",
   "execution_count": 23,
   "metadata": {},
   "outputs": [
    {
     "name": "stdout",
     "output_type": "stream",
     "text": [
      "The shortest closed path (circuit) 𝑈 that visits every edge of G is:\n",
      "Albania -> Serbia -> Romania -> Bulgaria -> Romania -> Moldova -> Ukraine -> Poland -> Ukraine -> Russia -> Norway -> Finland -> Sweden -> Norway -> Russia -> Poland -> Belarus -> Ukraine -> Romania -> Hungary -> Ukraine -> Slovakia -> Hungary -> Slovakia -> Poland -> Germany -> Netherlands -> Belgium -> Luxemburg -> Germany -> Switzerland -> Italy -> Vatican City -> Italy -> San Marino -> Italy -> Slovenia -> Croatia -> Bosnia and Herzegovina -> Croatia -> Hungary -> Slovenia -> Austria -> Switzerland -> France -> United Kingdom -> Ireland -> United Kingdom -> France -> Monaco -> France -> Switzerland -> Liechtenstein -> Austria -> Slovakia -> Czech Republic -> Poland -> Lithuania -> Russia -> Latvia -> Lithuania -> Belarus -> Russia -> Estonia -> Latvia -> Belarus -> Russia -> Finland -> Sweden -> Denmark -> Germany -> Luxemburg -> France -> Italy -> Austria -> Germany -> Belgium -> France -> Spain -> Portugal -> Spain -> Andorra -> France -> Germany -> Czech Republic -> Austria -> Hungary -> Serbia -> Bulgaria -> Turkey -> Greece -> Northern Macedonia -> Serbia -> Croatia -> Montenegro -> Serbia -> Bosnia and Herzegovina -> Montenegro -> Albania -> Northern Macedonia -> Bulgaria -> Greece -> Albania\n"
     ]
    }
   ],
   "source": [
    "H = nx.eulerize(G)\n",
    "circuit = list(n for n, d in nx.eulerian_circuit(H))\n",
    "print(\"The shortest closed path (circuit) 𝑈 that visits every edge of G is:\")\n",
    "for i in circuit:\n",
    "    print(i, \"->\", end = \" \")\n",
    "print(circuit[0])"
   ]
  },
  {
   "cell_type": "markdown",
   "metadata": {},
   "source": [
    "### (l) Find all 2-vertex-connected components (blocks) and draw a block-cut tree of G*"
   ]
  },
  {
   "cell_type": "code",
   "execution_count": 24,
   "metadata": {},
   "outputs": [
    {
     "name": "stdout",
     "output_type": "stream",
     "text": [
      "2-vertex-connected components (blocks) are: [{'France', 'Spain', 'Andorra'}, {'Slovakia', 'Latvia', 'Norway', 'Turkey', 'Netherlands', 'Croatia', 'Czech Republic', 'Switzerland', 'Belarus', 'Hungary', 'Liechtenstein', 'Austria', 'France', 'Ukraine', 'Lithuania', 'Luxemburg', 'Denmark', 'Sweden', 'Finland', 'Slovenia', 'Northern Macedonia', 'Belgium', 'Italy', 'Estonia', 'Germany', 'Moldova', 'Greece', 'Poland', 'Russia', 'Bosnia and Herzegovina', 'Montenegro', 'Romania', 'Serbia', 'Albania', 'Bulgaria'}]\n"
     ]
    }
   ],
   "source": [
    "print(\"2-vertex-connected components (blocks) are:\", nx.k_components(G)[2])"
   ]
  },
  {
   "cell_type": "markdown",
   "metadata": {},
   "source": [
    "### (m) Find all 2-edge-connected components of G*"
   ]
  },
  {
   "cell_type": "code",
   "execution_count": 25,
   "metadata": {},
   "outputs": [
    {
     "name": "stdout",
     "output_type": "stream",
     "text": [
      "All 2-edge-connected components of G* are [{'Slovakia', 'Latvia', 'Norway', 'Turkey', 'Netherlands', 'Croatia', 'Czech Republic', 'Belarus', 'Switzerland', 'Hungary', 'Liechtenstein', 'Austria', 'Spain', 'France', 'Ukraine', 'Lithuania', 'Luxemburg', 'Denmark', 'Finland', 'Sweden', 'Slovenia', 'Northern Macedonia', 'Belgium', 'Italy', 'Estonia', 'Germany', 'Moldova', 'Andorra', 'Bosnia and Herzegovina', 'Poland', 'Russia', 'Greece', 'Montenegro', 'Romania', 'Serbia', 'Albania', 'Bulgaria'}, {'Monaco'}, {'Ireland'}, {'United Kingdom'}, {'San Marino'}, {'Vatican City'}, {'Portugal'}]\n"
     ]
    }
   ],
   "source": [
    "print(\"All 2-edge-connected components of G* are\", list(connectivity.k_edge_components(G, 2)))"
   ]
  },
  {
   "cell_type": "markdown",
   "metadata": {},
   "source": [
    "### (n) Construct an SPQR tree of the largest biconnected component of G."
   ]
  },
  {
   "cell_type": "code",
   "execution_count": 26,
   "metadata": {},
   "outputs": [
    {
     "name": "stdout",
     "output_type": "stream",
     "text": [
      "The length of the largest biconnected component of G is 35\n",
      "The largest biconnected component of G is {'Slovakia', 'Norway', 'Latvia', 'Turkey', 'Netherlands', 'Croatia', 'Czech Republic', 'Switzerland', 'Belarus', 'Hungary', 'Liechtenstein', 'Austria', 'France', 'Ukraine', 'Lithuania', 'Luxemburg', 'Denmark', 'Sweden', 'Finland', 'Slovenia', 'Northern Macedonia', 'Belgium', 'Italy', 'Estonia', 'Germany', 'Moldova', 'Bosnia and Herzegovina', 'Greece', 'Russia', 'Poland', 'Montenegro', 'Romania', 'Serbia', 'Albania', 'Bulgaria'}\n"
     ]
    }
   ],
   "source": [
    "ma = -1\n",
    "a = list(components.biconnected_components(G))\n",
    "for i in a:\n",
    "    if len(i) > ma:\n",
    "        ma = len(i)\n",
    "        k = i\n",
    "print(\"The length of the largest biconnected component of G is\", ma)\n",
    "print(\"The largest biconnected component of G is\", k)\n",
    "\n",
    "# A link to SageMathCell, where the rest of the task is\n",
    "# https://clck.ru/UDe9U\n",
    "# A tree drawn there might not be comprehensible, so in doc I provide a better illustration"
   ]
  },
  {
   "cell_type": "markdown",
   "metadata": {},
   "source": [
    "### (o) Add the weight function 𝑤 : 𝐸 → R denoting the distance between capitals. Find the minimum (w.r.t. the total weight of edges) spanning tree 𝑇 for the maximum connected component of the weighted Europe graph Gw* = (𝑉 , 𝐸, 𝑤).\n"
   ]
  },
  {
   "cell_type": "code",
   "execution_count": 27,
   "metadata": {},
   "outputs": [
    {
     "name": "stdout",
     "output_type": "stream",
     "text": [
      "The edges of the minimum spanning tree 𝑇 are [('Albania', 'Montenegro'), ('Albania', 'Northern Macedonia'), ('Greece', 'Northern Macedonia'), ('Greece', 'Turkey'), ('Montenegro', 'Serbia'), ('Northern Macedonia', 'Bulgaria'), ('Serbia', 'Bosnia and Herzegovina'), ('Andorra', 'Spain'), ('Andorra', 'France'), ('France', 'Belgium'), ('France', 'United Kingdom'), ('France', 'Switzerland'), ('France', 'Monaco'), ('Spain', 'Portugal'), ('Austria', 'Slovakia'), ('Austria', 'Czech Republic'), ('Austria', 'Slovenia'), ('Austria', 'Liechtenstein'), ('Czech Republic', 'Germany'), ('Germany', 'Denmark'), ('Hungary', 'Slovakia'), ('Italy', 'Vatican City'), ('Italy', 'San Marino'), ('Italy', 'Slovenia'), ('Liechtenstein', 'Switzerland'), ('Slovenia', 'Croatia'), ('Belarus', 'Lithuania'), ('Belarus', 'Ukraine'), ('Belarus', 'Russia'), ('Latvia', 'Lithuania'), ('Latvia', 'Estonia'), ('Lithuania', 'Poland'), ('Ukraine', 'Moldova'), ('Belgium', 'Netherlands'), ('Belgium', 'Luxemburg'), ('Bosnia and Herzegovina', 'Croatia'), ('Bulgaria', 'Romania'), ('Romania', 'Moldova'), ('Denmark', 'Sweden'), ('Sweden', 'Finland'), ('Sweden', 'Norway'), ('Ireland', 'United Kingdom')]\n"
     ]
    }
   ],
   "source": [
    "G = nx.Graph()\n",
    "a = [(\"Albania\", \"Greece\", {'weight': 500}), (\"Albania\", \"Montenegro\", {'weight': 132}), \n",
    "     (\"Albania\", \"Northern Macedonia\", {'weight': 153}), (\"Albania\", \"Serbia\", {'weight': 393}), \n",
    "     (\"Andorra\", \"France\", {'weight': 713}), (\"Andorra\", \"Spain\", {'weight': 495}), \n",
    "     (\"Austria\", \"Czech Republic\", {'weight': 254}), (\"Austria\", \"Germany\", {'weight': 525}), \n",
    "     (\"Austria\", \"Hungary\", {'weight': 216}), (\"Austria\", \"Italy\", {'weight': 764}), \n",
    "     (\"Austria\", \"Liechtenstein\", {'weight': 529}), (\"Austria\", \"Slovakia\", {'weight': 60}), \n",
    "     (\"Austria\", \"Slovenia\", {'weight': 270}), (\"Austria\", \"Switzerland\", {'weight': 685}), \n",
    "     (\"Belarus\", \"Latvia\", {'weight': 401}), (\"Belarus\", \"Lithuania\", {'weight': 172}), \n",
    "     (\"Belarus\", \"Poland\", {'weight': 480}), (\"Belarus\", \"Russia\", {'weight': 682}), \n",
    "     (\"Belarus\", \"Ukraine\", {'weight': 435}), (\"Belgium\", \"Germany\", {'weight': 650}), \n",
    "     (\"Belgium\", \"France\", {'weight': 267}),  (\"Belgium\", \"Luxemburg\", {'weight': 186}), \n",
    "     (\"Belgium\", \"Netherlands\", {'weight': 174}), (\"Bosnia and Herzegovina\", \"Croatia\", {'weight': 284}), \n",
    "     (\"Bosnia and Herzegovina\", \"Montenegro\", {'weight': 1711}), (\"Bosnia and Herzegovina\", \"Serbia\", {'weight': 201}),  \n",
    "     (\"Bulgaria\", \"Greece\", {'weight': 527}),  (\"Bulgaria\", \"Northern Macedonia\", {'weight': 175}), \n",
    "     (\"Bulgaria\", \"Serbia\", {'weight': 324}),  (\"Bulgaria\", \"Romania\", {'weight': 297}), \n",
    "     (\"Bulgaria\", \"Turkey\", {'weight': 854}),  (\"Croatia\", \"Hungary\", {'weight': 302}),  \n",
    "     (\"Croatia\", \"Montenegro\", {'weight': 457}), (\"Croatia\", \"Serbia\", {'weight': 372}), \n",
    "     (\"Croatia\", \"Slovenia\", {'weight': 115}), (\"Czech Republic\", \"Germany\", {'weight': 285}), \n",
    "     (\"Czech Republic\", \"Poland\", {'weight': 520}), (\"Czech Republic\", \"Slovakia\", {'weight': 292}), \n",
    "     (\"Denmark\", \"Germany\", {'weight': 355}), (\"Denmark\", \"Sweden\", {'weight': 517}), \n",
    "     (\"Estonia\", \"Latvia\", {'weight': 277}), (\"Estonia\", \"Russia\", {'weight': 872}), \n",
    "     (\"Finland\", \"Norway\", {'weight': 788}), (\"Finland\", \"Sweden\", {'weight': 397}), \n",
    "     (\"Finland\", \"Russia\", {'weight': 895}), (\"France\", \"Germany\", {'weight': 875}), \n",
    "     (\"France\", \"Italy\", {'weight': 1105}), (\"France\", \"Luxemburg\", {'weight': 287}), \n",
    "     (\"France\", \"Monaco\", {'weight': 689}), (\"France\", \"Spain\", {'weight': 1053}), \n",
    "     (\"France\", \"Switzerland\", {'weight': 436}), (\"Germany\", \"Luxemburg\", {'weight': 604}), \n",
    "     (\"Germany\", \"Netherlands\", {'weight': 577}), (\"Germany\", \"Poland\", {'weight': 524}), \n",
    "     (\"Germany\", \"Switzerland\", {'weight': 755}), (\"Greece\", \"Northern Macedonia\", {'weight': 485}), \n",
    "     (\"Greece\", \"Turkey\", {'weight': 821}), (\"Hungary\", \"Serbia\", {'weight': 311}), \n",
    "     (\"Hungary\", \"Slovakia\", {'weight': 162}), (\"Hungary\", \"Slovenia\", {'weight': 381}), \n",
    "     (\"Hungary\", \"Ukraine\", {'weight': 901}), (\"Ireland\", \"United Kingdom\", {'weight': 466}), \n",
    "     (\"Italy\", \"San Marino\", {'weight': 223}), (\"Italy\", \"Slovenia\", {'weight': 492}), \n",
    "     (\"Italy\", \"Switzerland\", {'weight': 686}), (\"Italy\", \"Vatican City\", {'weight': 3}), \n",
    "     (\"Latvia\", \"Lithuania\", {'weight': 263}), (\"Latvia\", \"Russia\", {'weight': 844}), \n",
    "     (\"Liechtenstein\", \"Switzerland\", {'weight': 159}), (\"Lithuania\", \"Poland\", {'weight': 394}), \n",
    "     (\"Lithuania\", \"Russia\", {'weight': 796}), (\"Northern Macedonia\", \"Serbia\", {'weight': 319}), \n",
    "     (\"Moldova\", \"Romania\", {'weight': 359}), (\"Moldova\", \"Ukraine\", {'weight': 400}), \n",
    "     (\"Montenegro\", \"Serbia\", {'weight': 284}), (\"Norway\", \"Sweden\", {'weight': 419}), \n",
    "     (\"Norway\", \"Russia\", {'weight': 1648}), (\"Poland\", \"Slovakia\", {'weight': 535}), \n",
    "     (\"Poland\", \"Russia\", {'weight': 1158}), (\"Poland\", \"Ukraine\", {'weight': 691}), \n",
    "     (\"Portugal\", \"Spain\", {'weight': 506}), (\"Romania\", \"Serbia\", {'weight': 451}), \n",
    "     (\"Romania\", \"Ukraine\", {'weight': 890}), (\"Russia\", \"Ukraine\", {'weight': 750}), \n",
    "     (\"Slovakia\", \"Ukraine\", {'weight': 1105}), (\"United Kingdom\", \"France\", {'weight': 344}), \n",
    "     (\"Romania\", \"Hungary\", {'weight': 645})]\n",
    "G.add_edges_from(a)\n",
    "T = nx.minimum_spanning_tree(G)\n",
    "print(\"The edges of the minimum spanning tree 𝑇 are\", T.edges)"
   ]
  },
  {
   "cell_type": "markdown",
   "metadata": {},
   "source": [
    "### (p) Find centroid(𝑇) (w.r.t. the edge weight function 𝑤)."
   ]
  },
  {
   "cell_type": "code",
   "execution_count": 28,
   "metadata": {},
   "outputs": [
    {
     "name": "stdout",
     "output_type": "stream",
     "text": [
      "Centroid(T) is Austria\n"
     ]
    }
   ],
   "source": [
    "#done by hand\n",
    "# 'Albania' - 4913, 9808\n",
    "# 'Montenegro' - 5045, 9676\n",
    "# 'Serbia' - 9392, 5329\n",
    "# 'France' - 10881, 3840\n",
    "# 'Austria' - 4964, 222, 2618, 6917\n",
    "# 'Liechtenstein' - 4435, 10286\n",
    "# 'Slovenia' - 8074, 718, 5929\n",
    "# 'Switzerland' - 10445, 4276\n",
    "# 'Bosnia and Herzegovina' - 9191, 5530\n",
    "# 'Croatia' - 8907, 5814\n",
    "\n",
    "# 'Albania' - 9808\n",
    "# 'Montenegro' - 9676\n",
    "# 'Serbia' - 9392\n",
    "# 'France' - 10881\n",
    "# 'Austria' - 6917\n",
    "# 'Liechtenstein' - 10286\n",
    "# 'Slovenia' - 8074\n",
    "# 'Switzerland' - 10445\n",
    "# 'Bosnia and Herzegovina' - 9191\n",
    "# 'Croatia' - 8907\n",
    "print(\"Centroid(T) is Austria\")"
   ]
  },
  {
   "cell_type": "markdown",
   "metadata": {},
   "source": [
    "### (q) Construct the Prufer code for 𝑇."
   ]
  },
  {
   "cell_type": "code",
   "execution_count": 29,
   "metadata": {},
   "outputs": [
    {
     "name": "stdout",
     "output_type": "stream",
     "text": [
      "The prufer code for T is [18, 37, 34, 41, 20, 4, 12, 4, 12, 37, 20, 3, 36, 3, 40, 17, 2, 1, 12, 9, 13, 8, 2, 14, 26, 22, 30, 6, 26, 0, 24, 33, 5, 7, 35, 12, 38, 19, 2, 35, 17]\n",
      "\n",
      "The prufer code for T, where nodes are not renamed, is:\n",
      "Latvia, Sweden, Slovakia, United Kingdom, Lithuania, Belgium, France, Belgium, France, Sweden, Lithuania, Belarus, Spain, Belarus, Ukraine, Italy, Austria, Andorra, France, Denmark, Germany, Czech Republic, Austria, Greece, Northern Macedonia, Moldova, Romania, Bulgaria, Northern Macedonia, Albania, Montenegro, Serbia, Bosnia and Herzegovina, Croatia, Slovenia, France, Switzerland, Liechtenstein, Austria, Slovenia, Italy, "
     ]
    }
   ],
   "source": [
    "new_T = nx.Graph()\n",
    "list_edges = [(0, 24), (0, 26), (14, 26), (14, 39), (24, 33), (26, 6), (33, 5), (1, 36), (1, 12), (12, 4), (12, 41), (12, 38), (12, 23), (36, 29), (2, 34), (2, 8), (2, 35), (2, 19), (8, 13), (13, 9), (15, 34), (17, 42), (17, 32), (17, 35), (19, 38), (35, 7), (3, 20), (3, 40), (3, 31), (18, 20), (18, 10), (20, 28), (40, 22), (4, 25), (4, 21), (5, 7), (6, 30), (30, 22), (9, 37), (37, 11), (37, 27), (16, 41)]\n",
    "new_T.add_edges_from(list_edges)\n",
    "print(\"The prufer code for T is\", nx.to_prufer_sequence(new_T))\n",
    "prufer = nx.to_prufer_sequence(new_T)\n",
    "nodes = list(T.nodes)\n",
    "nodes.sort()\n",
    "print()\n",
    "print(\"The prufer code for T, where nodes are not renamed, is:\")\n",
    "for i in range(len(prufer)):\n",
    "    print(nodes[prufer[i]], end = \", \")"
   ]
  }
 ],
 "metadata": {
  "kernelspec": {
   "display_name": "Python 3",
   "language": "python",
   "name": "python3"
  },
  "language_info": {
   "codemirror_mode": {
    "name": "ipython",
    "version": 3
   },
   "file_extension": ".py",
   "mimetype": "text/x-python",
   "name": "python",
   "nbconvert_exporter": "python",
   "pygments_lexer": "ipython3",
   "version": "3.8.5"
  }
 },
 "nbformat": 4,
 "nbformat_minor": 4
}
